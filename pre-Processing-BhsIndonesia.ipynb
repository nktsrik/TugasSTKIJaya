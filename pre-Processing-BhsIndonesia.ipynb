{
 "cells": [
  {
   "cell_type": "code",
   "execution_count": 1,
   "id": "a5c7d93b-6950-4345-9307-37d78ce2a3fe",
   "metadata": {},
   "outputs": [
    {
     "name": "stdout",
     "output_type": "stream",
     "text": [
      "Requirement already satisfied: nltk in c:\\users\\sriha\\appdata\\local\\programs\\python\\python312\\lib\\site-packages (3.8.1)\n",
      "Requirement already satisfied: click in c:\\users\\sriha\\appdata\\local\\programs\\python\\python312\\lib\\site-packages (from nltk) (8.1.7)\n",
      "Requirement already satisfied: joblib in c:\\users\\sriha\\appdata\\local\\programs\\python\\python312\\lib\\site-packages (from nltk) (1.4.0)\n",
      "Requirement already satisfied: regex>=2021.8.3 in c:\\users\\sriha\\appdata\\local\\programs\\python\\python312\\lib\\site-packages (from nltk) (2024.4.16)\n",
      "Requirement already satisfied: tqdm in c:\\users\\sriha\\appdata\\local\\programs\\python\\python312\\lib\\site-packages (from nltk) (4.66.2)\n",
      "Requirement already satisfied: colorama in c:\\users\\sriha\\appdata\\local\\programs\\python\\python312\\lib\\site-packages (from click->nltk) (0.4.6)\n",
      "Note: you may need to restart the kernel to use updated packages.\n"
     ]
    }
   ],
   "source": [
    "pip install nltk"
   ]
  },
  {
   "cell_type": "code",
   "execution_count": 2,
   "id": "9fadaad8-9d38-42de-9258-871f2aebb03f",
   "metadata": {},
   "outputs": [
    {
     "name": "stdout",
     "output_type": "stream",
     "text": [
      "Requirement already satisfied: regex in c:\\users\\sriha\\appdata\\local\\programs\\python\\python312\\lib\\site-packages (2024.4.16)\n",
      "Note: you may need to restart the kernel to use updated packages.\n"
     ]
    }
   ],
   "source": [
    "pip install regex"
   ]
  },
  {
   "cell_type": "code",
   "execution_count": 3,
   "id": "92624c9b-6cdb-4088-b3a1-e8f6e8615fce",
   "metadata": {},
   "outputs": [
    {
     "name": "stdout",
     "output_type": "stream",
     "text": [
      "Requirement already satisfied: scikit-learn in c:\\users\\sriha\\appdata\\local\\programs\\python\\python312\\lib\\site-packages (1.4.2)\n",
      "Requirement already satisfied: numpy>=1.19.5 in c:\\users\\sriha\\appdata\\local\\programs\\python\\python312\\lib\\site-packages (from scikit-learn) (1.26.4)\n",
      "Requirement already satisfied: scipy>=1.6.0 in c:\\users\\sriha\\appdata\\local\\programs\\python\\python312\\lib\\site-packages (from scikit-learn) (1.13.0)\n",
      "Requirement already satisfied: joblib>=1.2.0 in c:\\users\\sriha\\appdata\\local\\programs\\python\\python312\\lib\\site-packages (from scikit-learn) (1.4.0)\n",
      "Requirement already satisfied: threadpoolctl>=2.0.0 in c:\\users\\sriha\\appdata\\local\\programs\\python\\python312\\lib\\site-packages (from scikit-learn) (3.4.0)\n",
      "Note: you may need to restart the kernel to use updated packages.\n"
     ]
    }
   ],
   "source": [
    "pip install scikit-learn"
   ]
  },
  {
   "cell_type": "code",
   "execution_count": 4,
   "id": "d3c7fb4a-7752-46a1-ac30-7a6871ed4fd0",
   "metadata": {},
   "outputs": [
    {
     "name": "stdout",
     "output_type": "stream",
     "text": [
      "Requirement already satisfied: numpy in c:\\users\\sriha\\appdata\\local\\programs\\python\\python312\\lib\\site-packages (1.26.4)\n",
      "Note: you may need to restart the kernel to use updated packages.\n"
     ]
    }
   ],
   "source": [
    "pip install numpy"
   ]
  },
  {
   "cell_type": "code",
   "execution_count": 5,
   "id": "0a2c6a27-b5c1-428c-8e3b-0570343a3d5b",
   "metadata": {},
   "outputs": [
    {
     "name": "stdout",
     "output_type": "stream",
     "text": [
      "Requirement already satisfied: pandas in c:\\users\\sriha\\appdata\\local\\programs\\python\\python312\\lib\\site-packages (2.2.2)\n",
      "Requirement already satisfied: numpy>=1.26.0 in c:\\users\\sriha\\appdata\\local\\programs\\python\\python312\\lib\\site-packages (from pandas) (1.26.4)\n",
      "Requirement already satisfied: python-dateutil>=2.8.2 in c:\\users\\sriha\\appdata\\local\\programs\\python\\python312\\lib\\site-packages (from pandas) (2.9.0.post0)\n",
      "Requirement already satisfied: pytz>=2020.1 in c:\\users\\sriha\\appdata\\local\\programs\\python\\python312\\lib\\site-packages (from pandas) (2024.1)\n",
      "Requirement already satisfied: tzdata>=2022.7 in c:\\users\\sriha\\appdata\\local\\programs\\python\\python312\\lib\\site-packages (from pandas) (2024.1)\n",
      "Requirement already satisfied: six>=1.5 in c:\\users\\sriha\\appdata\\local\\programs\\python\\python312\\lib\\site-packages (from python-dateutil>=2.8.2->pandas) (1.16.0)\n",
      "Note: you may need to restart the kernel to use updated packages.\n"
     ]
    }
   ],
   "source": [
    "pip install pandas"
   ]
  },
  {
   "cell_type": "code",
   "execution_count": 6,
   "id": "710652c8-9fb2-44ba-a0fd-0a6e3086453d",
   "metadata": {},
   "outputs": [
    {
     "name": "stdout",
     "output_type": "stream",
     "text": [
      "Requirement already satisfied: sastrawi in c:\\users\\sriha\\appdata\\local\\programs\\python\\python312\\lib\\site-packages (1.0.1)\n",
      "Note: you may need to restart the kernel to use updated packages.\n"
     ]
    }
   ],
   "source": [
    "pip install sastrawi"
   ]
  },
  {
   "cell_type": "code",
   "execution_count": 7,
   "id": "098733bf-29a1-45dc-936f-142e25192ea0",
   "metadata": {},
   "outputs": [],
   "source": [
    "import numpy as np\n",
    "import pandas as pd\n",
    "\n",
    "import regex as re\n",
    "import nltk\n",
    "from nltk.tokenize import sent_tokenize, word_tokenize\n",
    "from nltk.corpus import stopwords\n",
    "from Sastrawi.Stemmer.StemmerFactory import StemmerFactory\n",
    "\n",
    "from sklearn.feature_extraction.text import TfidfVectorizer"
   ]
  },
  {
   "cell_type": "code",
   "execution_count": 8,
   "id": "e596cec6-f906-47a8-9911-698bba0c3c17",
   "metadata": {},
   "outputs": [
    {
     "name": "stdout",
     "output_type": "stream",
     "text": [
      "       id                                                                                                                                          teks keterangan\n",
      "0   indo1                                              Matahari adalah bintang pusat dari Tata Surya yang memiliki diameter sekitar 1.4 juta kilometer.   Matahari\n",
      "1   indo2                           Bumi adalah planet ketiga dari Matahari dalam Tata Surya dan satu-satunya planet yang diketahui memiliki kehidupan.       Bumi\n",
      "2   indo3                                                                  Merkurius adalah planet terkecil di Tata Surya dan terdekat dengan Matahari.  Merkurius\n",
      "3   indo4          Venus adalah planet kedua dari Matahari dalam Tata Surya dan dikenal sebagai \"planet kembar\" Bumi karena ukurannya yang hampir sama.      Venus\n",
      "4   indo5                       Mars adalah planet keempat dari Matahari dalam Tata Surya dan dikenal sebagai \"planet merah\" karena warnanya yang khas.       Mars\n",
      "5   indo6    Yupiter adalah planet terbesar di Tata Surya dan memiliki banyak satelit, termasuk Ganymede yang merupakan satelit terbesar di Tata Surya.    Yupiter\n",
      "6   indo7                                               Saturnus adalah planet kedua terbesar di Tata Surya dan dikenal karena cincinnya yang mencolok.   Saturnus\n",
      "7   indo8  Uranus adalah planet yang miringnya sangat ekstrem dalam Tata Surya dan merupakan satu-satunya planet yang diberi nama dari mitologi Yunani.     Uranus\n",
      "8   indo9                    Neptunus adalah planet terjauh dari Matahari dalam Tata Surya dan dikenal karena angin yang sangat kencang di atmosfernya.   Neptunus\n",
      "9  indo10          Pluto dulunya dianggap sebagai planet kesembilan dalam Tata Surya, namun sekarang diklasifikasikan sebagai \"planet kerdil\" oleh IAU.      Pluto\n"
     ]
    }
   ],
   "source": [
    "import pandas as pd\n",
    "\n",
    "# Setel opsi tampilan Pandas\n",
    "pd.set_option('display.max_columns', None)  # Menampilkan semua kolom\n",
    "pd.set_option('display.max_rows', None)     # Menampilkan semua baris\n",
    "pd.set_option('display.expand_frame_repr', False)  # Biarkan DataFrame memperluas ke samping jika terlalu lebar\n",
    "pd.set_option('display.width', None)        # Biarkan DataFrame memperluas ke samping jika terlalu lebar\n",
    "pd.set_option('display.max_colwidth', None) # Menampilkan semua teks dalam kolom\n",
    "\n",
    "# Membaca DataFrame dari file CSV\n",
    "dataset = pd.read_csv(\"Data-Corpus-IND.csv\")\n",
    "\n",
    "# Tampilkan DataFrame\n",
    "print(dataset)"
   ]
  },
  {
   "cell_type": "code",
   "execution_count": 9,
   "id": "b8bc268b-898d-49f0-b72a-832dcfde8d95",
   "metadata": {},
   "outputs": [
    {
     "data": {
      "text/html": [
       "<table border=\"1\" class=\"dataframe\">\n",
       "  <thead>\n",
       "    <tr style=\"text-align: right;\">\n",
       "      <th></th>\n",
       "      <th>id</th>\n",
       "      <th>teks</th>\n",
       "      <th>keterangan</th>\n",
       "    </tr>\n",
       "  </thead>\n",
       "  <tbody>\n",
       "    <tr>\n",
       "      <th>0</th>\n",
       "      <td>indo1</td>\n",
       "      <td>Matahari adalah bintang pusat dari Tata Surya yang memiliki diameter sekitar 1.4 juta kilometer.</td>\n",
       "      <td>Matahari</td>\n",
       "    </tr>\n",
       "    <tr>\n",
       "      <th>1</th>\n",
       "      <td>indo2</td>\n",
       "      <td>Bumi adalah planet ketiga dari Matahari dalam Tata Surya dan satu-satunya planet yang diketahui memiliki kehidupan.</td>\n",
       "      <td>Bumi</td>\n",
       "    </tr>\n",
       "    <tr>\n",
       "      <th>2</th>\n",
       "      <td>indo3</td>\n",
       "      <td>Merkurius adalah planet terkecil di Tata Surya dan terdekat dengan Matahari.</td>\n",
       "      <td>Merkurius</td>\n",
       "    </tr>\n",
       "    <tr>\n",
       "      <th>3</th>\n",
       "      <td>indo4</td>\n",
       "      <td>Venus adalah planet kedua dari Matahari dalam Tata Surya dan dikenal sebagai \"planet kembar\" Bumi karena ukurannya yang hampir sama.</td>\n",
       "      <td>Venus</td>\n",
       "    </tr>\n",
       "    <tr>\n",
       "      <th>4</th>\n",
       "      <td>indo5</td>\n",
       "      <td>Mars adalah planet keempat dari Matahari dalam Tata Surya dan dikenal sebagai \"planet merah\" karena warnanya yang khas.</td>\n",
       "      <td>Mars</td>\n",
       "    </tr>\n",
       "    <tr>\n",
       "      <th>5</th>\n",
       "      <td>indo6</td>\n",
       "      <td>Yupiter adalah planet terbesar di Tata Surya dan memiliki banyak satelit, termasuk Ganymede yang merupakan satelit terbesar di Tata Surya.</td>\n",
       "      <td>Yupiter</td>\n",
       "    </tr>\n",
       "    <tr>\n",
       "      <th>6</th>\n",
       "      <td>indo7</td>\n",
       "      <td>Saturnus adalah planet kedua terbesar di Tata Surya dan dikenal karena cincinnya yang mencolok.</td>\n",
       "      <td>Saturnus</td>\n",
       "    </tr>\n",
       "    <tr>\n",
       "      <th>7</th>\n",
       "      <td>indo8</td>\n",
       "      <td>Uranus adalah planet yang miringnya sangat ekstrem dalam Tata Surya dan merupakan satu-satunya planet yang diberi nama dari mitologi Yunani.</td>\n",
       "      <td>Uranus</td>\n",
       "    </tr>\n",
       "    <tr>\n",
       "      <th>8</th>\n",
       "      <td>indo9</td>\n",
       "      <td>Neptunus adalah planet terjauh dari Matahari dalam Tata Surya dan dikenal karena angin yang sangat kencang di atmosfernya.</td>\n",
       "      <td>Neptunus</td>\n",
       "    </tr>\n",
       "    <tr>\n",
       "      <th>9</th>\n",
       "      <td>indo10</td>\n",
       "      <td>Pluto dulunya dianggap sebagai planet kesembilan dalam Tata Surya, namun sekarang diklasifikasikan sebagai \"planet kerdil\" oleh IAU.</td>\n",
       "      <td>Pluto</td>\n",
       "    </tr>\n",
       "  </tbody>\n",
       "</table>"
      ],
      "text/plain": [
       "<IPython.core.display.HTML object>"
      ]
     },
     "metadata": {},
     "output_type": "display_data"
    }
   ],
   "source": [
    "from IPython.display import display, HTML\n",
    "\n",
    "# Membaca DataFrame dari file CSV\n",
    "dataset = pd.read_csv(\"Data-Corpus-IND.csv\")\n",
    "\n",
    "# Menampilkan DataFrame dalam format HTML\n",
    "display(HTML(dataset.to_html()))"
   ]
  },
  {
   "cell_type": "code",
   "execution_count": 10,
   "id": "1023a1bd-a789-4bc7-a43e-c359a2dc961d",
   "metadata": {},
   "outputs": [],
   "source": [
    "def listToString(s):\n",
    "    str1 = \" \"\n",
    "    return (str1.join(s))"
   ]
  },
  {
   "cell_type": "code",
   "execution_count": 11,
   "id": "92115384-774a-4b0b-b337-4d283cebb747",
   "metadata": {},
   "outputs": [],
   "source": [
    "text = dataset.teks.to_list()"
   ]
  },
  {
   "cell_type": "code",
   "execution_count": 12,
   "id": "00dec811-df40-41a9-95ca-7a632f392cb2",
   "metadata": {},
   "outputs": [
    {
     "data": {
      "text/html": [
       "<div>\n",
       "<style scoped>\n",
       "    .dataframe tbody tr th:only-of-type {\n",
       "        vertical-align: middle;\n",
       "    }\n",
       "\n",
       "    .dataframe tbody tr th {\n",
       "        vertical-align: top;\n",
       "    }\n",
       "\n",
       "    .dataframe thead th {\n",
       "        text-align: right;\n",
       "    }\n",
       "</style>\n",
       "<table border=\"1\" class=\"dataframe\">\n",
       "  <thead>\n",
       "    <tr style=\"text-align: right;\">\n",
       "      <th></th>\n",
       "      <th>0</th>\n",
       "    </tr>\n",
       "  </thead>\n",
       "  <tbody>\n",
       "    <tr>\n",
       "      <th>0</th>\n",
       "      <td>Matahari adalah bintang pusat dari Tata Surya yang memiliki diameter sekitar 1.4 juta kilometer.</td>\n",
       "    </tr>\n",
       "    <tr>\n",
       "      <th>1</th>\n",
       "      <td>Bumi adalah planet ketiga dari Matahari dalam Tata Surya dan satu-satunya planet yang diketahui memiliki kehidupan.</td>\n",
       "    </tr>\n",
       "    <tr>\n",
       "      <th>2</th>\n",
       "      <td>Merkurius adalah planet terkecil di Tata Surya dan terdekat dengan Matahari.</td>\n",
       "    </tr>\n",
       "    <tr>\n",
       "      <th>3</th>\n",
       "      <td>Venus adalah planet kedua dari Matahari dalam Tata Surya dan dikenal sebagai \"planet kembar\" Bumi karena ukurannya yang hampir sama.</td>\n",
       "    </tr>\n",
       "    <tr>\n",
       "      <th>4</th>\n",
       "      <td>Mars adalah planet keempat dari Matahari dalam Tata Surya dan dikenal sebagai \"planet merah\" karena warnanya yang khas.</td>\n",
       "    </tr>\n",
       "    <tr>\n",
       "      <th>5</th>\n",
       "      <td>Yupiter adalah planet terbesar di Tata Surya dan memiliki banyak satelit, termasuk Ganymede yang merupakan satelit terbesar di Tata Surya.</td>\n",
       "    </tr>\n",
       "    <tr>\n",
       "      <th>6</th>\n",
       "      <td>Saturnus adalah planet kedua terbesar di Tata Surya dan dikenal karena cincinnya yang mencolok.</td>\n",
       "    </tr>\n",
       "    <tr>\n",
       "      <th>7</th>\n",
       "      <td>Uranus adalah planet yang miringnya sangat ekstrem dalam Tata Surya dan merupakan satu-satunya planet yang diberi nama dari mitologi Yunani.</td>\n",
       "    </tr>\n",
       "    <tr>\n",
       "      <th>8</th>\n",
       "      <td>Neptunus adalah planet terjauh dari Matahari dalam Tata Surya dan dikenal karena angin yang sangat kencang di atmosfernya.</td>\n",
       "    </tr>\n",
       "    <tr>\n",
       "      <th>9</th>\n",
       "      <td>Pluto dulunya dianggap sebagai planet kesembilan dalam Tata Surya, namun sekarang diklasifikasikan sebagai \"planet kerdil\" oleh IAU.</td>\n",
       "    </tr>\n",
       "  </tbody>\n",
       "</table>\n",
       "</div>"
      ],
      "text/plain": [
       "                                                                                                                                              0\n",
       "0                                              Matahari adalah bintang pusat dari Tata Surya yang memiliki diameter sekitar 1.4 juta kilometer.\n",
       "1                           Bumi adalah planet ketiga dari Matahari dalam Tata Surya dan satu-satunya planet yang diketahui memiliki kehidupan.\n",
       "2                                                                  Merkurius adalah planet terkecil di Tata Surya dan terdekat dengan Matahari.\n",
       "3          Venus adalah planet kedua dari Matahari dalam Tata Surya dan dikenal sebagai \"planet kembar\" Bumi karena ukurannya yang hampir sama.\n",
       "4                       Mars adalah planet keempat dari Matahari dalam Tata Surya dan dikenal sebagai \"planet merah\" karena warnanya yang khas.\n",
       "5    Yupiter adalah planet terbesar di Tata Surya dan memiliki banyak satelit, termasuk Ganymede yang merupakan satelit terbesar di Tata Surya.\n",
       "6                                               Saturnus adalah planet kedua terbesar di Tata Surya dan dikenal karena cincinnya yang mencolok.\n",
       "7  Uranus adalah planet yang miringnya sangat ekstrem dalam Tata Surya dan merupakan satu-satunya planet yang diberi nama dari mitologi Yunani.\n",
       "8                    Neptunus adalah planet terjauh dari Matahari dalam Tata Surya dan dikenal karena angin yang sangat kencang di atmosfernya.\n",
       "9          Pluto dulunya dianggap sebagai planet kesembilan dalam Tata Surya, namun sekarang diklasifikasikan sebagai \"planet kerdil\" oleh IAU."
      ]
     },
     "execution_count": 12,
     "metadata": {},
     "output_type": "execute_result"
    }
   ],
   "source": [
    "pd.DataFrame(text)"
   ]
  },
  {
   "cell_type": "code",
   "execution_count": 13,
   "id": "06317526-cf0e-4294-b153-b68c74cf58ca",
   "metadata": {},
   "outputs": [
    {
     "name": "stdout",
     "output_type": "stream",
     "text": [
      "['matahari adalah bintang pusat dari ta surya yang memiliki diameter sekitar 14 juta kilometer', 'bumi adalah planet ketiga dari matahari dalam ta surya dan satunya planet yang diketahui memiliki kehidupan', 'merkurius adalah planet terkecil di ta surya dan terdekat dengan matahari', 'venus adalah planet kedua dari matahari dalam ta surya dan dikenal sebagai planet kembar bumi karena ukurannya yang hampir sama', 'mars adalah planet keempat dari matahari dalam ta surya dan dikenal sebagai planet merah karena warnanya yang khas', 'yupiter adalah planet terbesar di ta surya dan memiliki banyak satelit termasuk ganymede yang merupakan satelit terbesar di ta surya', 'saturnus adalah planet kedua terbesar di ta surya dan dikenal karena cinnya yang mencolok', 'uranus adalah planet yang miringnya sangat ekstrem dalam ta surya dan merupakan satunya planet yang diberi nama dari mitologi yunani', 'neptunus adalah planet terjauh dari matahari dalam ta surya dan dikenal karena angin yang sangat kencang di atmosfernya', 'pluto dulunya dianggap sebagai planet kesembilan dalam ta surya namun sekarang diklasifikasikan sebagai planet kerdil oleh iau']\n"
     ]
    }
   ],
   "source": [
    "clean_text = []\n",
    "for index, teks in enumerate(text):\n",
    "    clean = re.sub(r'[^\\w\\s]','',teks.lower())\n",
    "    \n",
    "    # remove consecutive identical words ex(organelorganel)\n",
    "    clean = re.sub(r'\\b(\\w+)\\1{1,}', '\\\\1', clean)\n",
    "    clean_text.append(clean)\n",
    "print(clean_text)"
   ]
  },
  {
   "cell_type": "code",
   "execution_count": 14,
   "id": "acdc8a5e-48ca-4623-8410-b514e9af43db",
   "metadata": {},
   "outputs": [
    {
     "name": "stderr",
     "output_type": "stream",
     "text": [
      "[nltk_data] Downloading package punkt to\n",
      "[nltk_data]     C:\\Users\\sriha\\AppData\\Roaming\\nltk_data...\n",
      "[nltk_data]   Package punkt is already up-to-date!\n"
     ]
    },
    {
     "data": {
      "text/plain": [
       "True"
      ]
     },
     "execution_count": 14,
     "metadata": {},
     "output_type": "execute_result"
    }
   ],
   "source": [
    "import nltk\n",
    "nltk.download('punkt')"
   ]
  },
  {
   "cell_type": "code",
   "execution_count": 15,
   "id": "30ee781b-9c5e-4c5d-8240-e72744550ccb",
   "metadata": {},
   "outputs": [
    {
     "name": "stdout",
     "output_type": "stream",
     "text": [
      "[['matahari adalah bintang pusat dari ta surya yang memiliki diameter sekitar 14 juta kilometer'], ['bumi adalah planet ketiga dari matahari dalam ta surya dan satunya planet yang diketahui memiliki kehidupan'], ['merkurius adalah planet terkecil di ta surya dan terdekat dengan matahari'], ['venus adalah planet kedua dari matahari dalam ta surya dan dikenal sebagai planet kembar bumi karena ukurannya yang hampir sama'], ['mars adalah planet keempat dari matahari dalam ta surya dan dikenal sebagai planet merah karena warnanya yang khas'], ['yupiter adalah planet terbesar di ta surya dan memiliki banyak satelit termasuk ganymede yang merupakan satelit terbesar di ta surya'], ['saturnus adalah planet kedua terbesar di ta surya dan dikenal karena cinnya yang mencolok'], ['uranus adalah planet yang miringnya sangat ekstrem dalam ta surya dan merupakan satunya planet yang diberi nama dari mitologi yunani'], ['neptunus adalah planet terjauh dari matahari dalam ta surya dan dikenal karena angin yang sangat kencang di atmosfernya'], ['pluto dulunya dianggap sebagai planet kesembilan dalam ta surya namun sekarang diklasifikasikan sebagai planet kerdil oleh iau']]\n"
     ]
    }
   ],
   "source": [
    "# Split clean text into a list of sentences\n",
    "split_sentences = []\n",
    "for index, teks in enumerate(clean_text):\n",
    "  sentences = sent_tokenize(teks)\n",
    "  split_sentences.append(sentences)\n",
    "# print(sentences)\n",
    "print(split_sentences)"
   ]
  },
  {
   "cell_type": "code",
   "execution_count": 16,
   "id": "d24be20c-913c-4d85-becc-8d47ea89990f",
   "metadata": {},
   "outputs": [
    {
     "name": "stdout",
     "output_type": "stream",
     "text": [
      "[['matahari', 'adalah', 'bintang', 'pusat', 'dari', 'ta', 'surya', 'yang', 'memiliki', 'diameter', 'sekitar', '14', 'juta', 'kilometer'], ['bumi', 'adalah', 'planet', 'ketiga', 'dari', 'matahari', 'dalam', 'ta', 'surya', 'dan', 'satunya', 'planet', 'yang', 'diketahui', 'memiliki', 'kehidupan'], ['merkurius', 'adalah', 'planet', 'terkecil', 'di', 'ta', 'surya', 'dan', 'terdekat', 'dengan', 'matahari'], ['venus', 'adalah', 'planet', 'kedua', 'dari', 'matahari', 'dalam', 'ta', 'surya', 'dan', 'dikenal', 'sebagai', 'planet', 'kembar', 'bumi', 'karena', 'ukurannya', 'yang', 'hampir', 'sama'], ['mars', 'adalah', 'planet', 'keempat', 'dari', 'matahari', 'dalam', 'ta', 'surya', 'dan', 'dikenal', 'sebagai', 'planet', 'merah', 'karena', 'warnanya', 'yang', 'khas'], ['yupiter', 'adalah', 'planet', 'terbesar', 'di', 'ta', 'surya', 'dan', 'memiliki', 'banyak', 'satelit', 'termasuk', 'ganymede', 'yang', 'merupakan', 'satelit', 'terbesar', 'di', 'ta', 'surya'], ['saturnus', 'adalah', 'planet', 'kedua', 'terbesar', 'di', 'ta', 'surya', 'dan', 'dikenal', 'karena', 'cinnya', 'yang', 'mencolok'], ['uranus', 'adalah', 'planet', 'yang', 'miringnya', 'sangat', 'ekstrem', 'dalam', 'ta', 'surya', 'dan', 'merupakan', 'satunya', 'planet', 'yang', 'diberi', 'nama', 'dari', 'mitologi', 'yunani'], ['neptunus', 'adalah', 'planet', 'terjauh', 'dari', 'matahari', 'dalam', 'ta', 'surya', 'dan', 'dikenal', 'karena', 'angin', 'yang', 'sangat', 'kencang', 'di', 'atmosfernya'], ['pluto', 'dulunya', 'dianggap', 'sebagai', 'planet', 'kesembilan', 'dalam', 'ta', 'surya', 'namun', 'sekarang', 'diklasifikasikan', 'sebagai', 'planet', 'kerdil', 'oleh', 'iau']]\n"
     ]
    }
   ],
   "source": [
    "split_words = []\n",
    "for index, sentence in enumerate(split_sentences):\n",
    "    words = word_tokenize(listToString(split_sentences[index]))\n",
    "    split_words.append(words)\n",
    "print(split_words)"
   ]
  },
  {
   "cell_type": "code",
   "execution_count": 17,
   "id": "93263064-8252-42a5-9269-07ae678abe49",
   "metadata": {},
   "outputs": [
    {
     "name": "stderr",
     "output_type": "stream",
     "text": [
      "[nltk_data] Downloading package stopwords to\n",
      "[nltk_data]     C:\\Users\\sriha\\AppData\\Roaming\\nltk_data...\n",
      "[nltk_data]   Package stopwords is already up-to-date!\n"
     ]
    },
    {
     "data": {
      "text/plain": [
       "True"
      ]
     },
     "execution_count": 17,
     "metadata": {},
     "output_type": "execute_result"
    }
   ],
   "source": [
    "import nltk\n",
    "nltk.download('stopwords')"
   ]
  },
  {
   "cell_type": "code",
   "execution_count": 18,
   "id": "a0192265-02b6-46b5-9c59-8b069ce25053",
   "metadata": {},
   "outputs": [
    {
     "name": "stdout",
     "output_type": "stream",
     "text": [
      "758 stopwords in Indonesia:\n",
      " ['ada', 'adalah', 'adanya', 'adapun', 'agak', 'agaknya', 'agar', 'akan', 'akankah', 'akhir', 'akhiri', 'akhirnya', 'aku', 'akulah', 'amat', 'amatlah', 'anda', 'andalah', 'antar', 'antara', 'antaranya', 'apa', 'apaan', 'apabila', 'apakah', 'apalagi', 'apatah', 'artinya', 'asal', 'asalkan', 'atas', 'atau', 'ataukah', 'ataupun', 'awal', 'awalnya', 'bagai', 'bagaikan', 'bagaimana', 'bagaimanakah', 'bagaimanapun', 'bagi', 'bagian', 'bahkan', 'bahwa', 'bahwasanya', 'baik', 'bakal', 'bakalan', 'balik', 'banyak', 'bapak', 'baru', 'bawah', 'beberapa', 'begini', 'beginian', 'beginikah', 'beginilah', 'begitu', 'begitukah', 'begitulah', 'begitupun', 'bekerja', 'belakang', 'belakangan', 'belum', 'belumlah', 'benar', 'benarkah', 'benarlah', 'berada', 'berakhir', 'berakhirlah', 'berakhirnya', 'berapa', 'berapakah', 'berapalah', 'berapapun', 'berarti', 'berawal', 'berbagai', 'berdatangan', 'beri', 'berikan', 'berikut', 'berikutnya', 'berjumlah', 'berkali-kali', 'berkata', 'berkehendak', 'berkeinginan', 'berkenaan', 'berlainan', 'berlalu', 'berlangsung', 'berlebihan', 'bermacam', 'bermacam-macam', 'bermaksud', 'bermula', 'bersama', 'bersama-sama', 'bersiap', 'bersiap-siap', 'bertanya', 'bertanya-tanya', 'berturut', 'berturut-turut', 'bertutur', 'berujar', 'berupa', 'besar', 'betul', 'betulkah', 'biasa', 'biasanya', 'bila', 'bilakah', 'bisa', 'bisakah', 'boleh', 'bolehkah', 'bolehlah', 'buat', 'bukan', 'bukankah', 'bukanlah', 'bukannya', 'bulan', 'bung', 'cara', 'caranya', 'cukup', 'cukupkah', 'cukuplah', 'cuma', 'dahulu', 'dalam', 'dan', 'dapat', 'dari', 'daripada', 'datang', 'dekat', 'demi', 'demikian', 'demikianlah', 'dengan', 'depan', 'di', 'dia', 'diakhiri', 'diakhirinya', 'dialah', 'diantara', 'diantaranya', 'diberi', 'diberikan', 'diberikannya', 'dibuat', 'dibuatnya', 'didapat', 'didatangkan', 'digunakan', 'diibaratkan', 'diibaratkannya', 'diingat', 'diingatkan', 'diinginkan', 'dijawab', 'dijelaskan', 'dijelaskannya', 'dikarenakan', 'dikatakan', 'dikatakannya', 'dikerjakan', 'diketahui', 'diketahuinya', 'dikira', 'dilakukan', 'dilalui', 'dilihat', 'dimaksud', 'dimaksudkan', 'dimaksudkannya', 'dimaksudnya', 'diminta', 'dimintai', 'dimisalkan', 'dimulai', 'dimulailah', 'dimulainya', 'dimungkinkan', 'dini', 'dipastikan', 'diperbuat', 'diperbuatnya', 'dipergunakan', 'diperkirakan', 'diperlihatkan', 'diperlukan', 'diperlukannya', 'dipersoalkan', 'dipertanyakan', 'dipunyai', 'diri', 'dirinya', 'disampaikan', 'disebut', 'disebutkan', 'disebutkannya', 'disini', 'disinilah', 'ditambahkan', 'ditandaskan', 'ditanya', 'ditanyai', 'ditanyakan', 'ditegaskan', 'ditujukan', 'ditunjuk', 'ditunjuki', 'ditunjukkan', 'ditunjukkannya', 'ditunjuknya', 'dituturkan', 'dituturkannya', 'diucapkan', 'diucapkannya', 'diungkapkan', 'dong', 'dua', 'dulu', 'empat', 'enggak', 'enggaknya', 'entah', 'entahlah', 'guna', 'gunakan', 'hal', 'hampir', 'hanya', 'hanyalah', 'hari', 'harus', 'haruslah', 'harusnya', 'hendak', 'hendaklah', 'hendaknya', 'hingga', 'ia', 'ialah', 'ibarat', 'ibaratkan', 'ibaratnya', 'ibu', 'ikut', 'ingat', 'ingat-ingat', 'ingin', 'inginkah', 'inginkan', 'ini', 'inikah', 'inilah', 'itu', 'itukah', 'itulah', 'jadi', 'jadilah', 'jadinya', 'jangan', 'jangankan', 'janganlah', 'jauh', 'jawab', 'jawaban', 'jawabnya', 'jelas', 'jelaskan', 'jelaslah', 'jelasnya', 'jika', 'jikalau', 'juga', 'jumlah', 'jumlahnya', 'justru', 'kala', 'kalau', 'kalaulah', 'kalaupun', 'kalian', 'kami', 'kamilah', 'kamu', 'kamulah', 'kan', 'kapan', 'kapankah', 'kapanpun', 'karena', 'karenanya', 'kasus', 'kata', 'katakan', 'katakanlah', 'katanya', 'ke', 'keadaan', 'kebetulan', 'kecil', 'kedua', 'keduanya', 'keinginan', 'kelamaan', 'kelihatan', 'kelihatannya', 'kelima', 'keluar', 'kembali', 'kemudian', 'kemungkinan', 'kemungkinannya', 'kenapa', 'kepada', 'kepadanya', 'kesampaian', 'keseluruhan', 'keseluruhannya', 'keterlaluan', 'ketika', 'khususnya', 'kini', 'kinilah', 'kira', 'kira-kira', 'kiranya', 'kita', 'kitalah', 'kok', 'kurang', 'lagi', 'lagian', 'lah', 'lain', 'lainnya', 'lalu', 'lama', 'lamanya', 'lanjut', 'lanjutnya', 'lebih', 'lewat', 'lima', 'luar', 'macam', 'maka', 'makanya', 'makin', 'malah', 'malahan', 'mampu', 'mampukah', 'mana', 'manakala', 'manalagi', 'masa', 'masalah', 'masalahnya', 'masih', 'masihkah', 'masing', 'masing-masing', 'mau', 'maupun', 'melainkan', 'melakukan', 'melalui', 'melihat', 'melihatnya', 'memang', 'memastikan', 'memberi', 'memberikan', 'membuat', 'memerlukan', 'memihak', 'meminta', 'memintakan', 'memisalkan', 'memperbuat', 'mempergunakan', 'memperkirakan', 'memperlihatkan', 'mempersiapkan', 'mempersoalkan', 'mempertanyakan', 'mempunyai', 'memulai', 'memungkinkan', 'menaiki', 'menambahkan', 'menandaskan', 'menanti', 'menanti-nanti', 'menantikan', 'menanya', 'menanyai', 'menanyakan', 'mendapat', 'mendapatkan', 'mendatang', 'mendatangi', 'mendatangkan', 'menegaskan', 'mengakhiri', 'mengapa', 'mengatakan', 'mengatakannya', 'mengenai', 'mengerjakan', 'mengetahui', 'menggunakan', 'menghendaki', 'mengibaratkan', 'mengibaratkannya', 'mengingat', 'mengingatkan', 'menginginkan', 'mengira', 'mengucapkan', 'mengucapkannya', 'mengungkapkan', 'menjadi', 'menjawab', 'menjelaskan', 'menuju', 'menunjuk', 'menunjuki', 'menunjukkan', 'menunjuknya', 'menurut', 'menuturkan', 'menyampaikan', 'menyangkut', 'menyatakan', 'menyebutkan', 'menyeluruh', 'menyiapkan', 'merasa', 'mereka', 'merekalah', 'merupakan', 'meski', 'meskipun', 'meyakini', 'meyakinkan', 'minta', 'mirip', 'misal', 'misalkan', 'misalnya', 'mula', 'mulai', 'mulailah', 'mulanya', 'mungkin', 'mungkinkah', 'nah', 'naik', 'namun', 'nanti', 'nantinya', 'nyaris', 'nyatanya', 'oleh', 'olehnya', 'pada', 'padahal', 'padanya', 'pak', 'paling', 'panjang', 'pantas', 'para', 'pasti', 'pastilah', 'penting', 'pentingnya', 'per', 'percuma', 'perlu', 'perlukah', 'perlunya', 'pernah', 'persoalan', 'pertama', 'pertama-tama', 'pertanyaan', 'pertanyakan', 'pihak', 'pihaknya', 'pukul', 'pula', 'pun', 'punya', 'rasa', 'rasanya', 'rata', 'rupanya', 'saat', 'saatnya', 'saja', 'sajalah', 'saling', 'sama', 'sama-sama', 'sambil', 'sampai', 'sampai-sampai', 'sampaikan', 'sana', 'sangat', 'sangatlah', 'satu', 'saya', 'sayalah', 'se', 'sebab', 'sebabnya', 'sebagai', 'sebagaimana', 'sebagainya', 'sebagian', 'sebaik', 'sebaik-baiknya', 'sebaiknya', 'sebaliknya', 'sebanyak', 'sebegini', 'sebegitu', 'sebelum', 'sebelumnya', 'sebenarnya', 'seberapa', 'sebesar', 'sebetulnya', 'sebisanya', 'sebuah', 'sebut', 'sebutlah', 'sebutnya', 'secara', 'secukupnya', 'sedang', 'sedangkan', 'sedemikian', 'sedikit', 'sedikitnya', 'seenaknya', 'segala', 'segalanya', 'segera', 'seharusnya', 'sehingga', 'seingat', 'sejak', 'sejauh', 'sejenak', 'sejumlah', 'sekadar', 'sekadarnya', 'sekali', 'sekali-kali', 'sekalian', 'sekaligus', 'sekalipun', 'sekarang', 'sekarang', 'sekecil', 'seketika', 'sekiranya', 'sekitar', 'sekitarnya', 'sekurang-kurangnya', 'sekurangnya', 'sela', 'selain', 'selaku', 'selalu', 'selama', 'selama-lamanya', 'selamanya', 'selanjutnya', 'seluruh', 'seluruhnya', 'semacam', 'semakin', 'semampu', 'semampunya', 'semasa', 'semasih', 'semata', 'semata-mata', 'semaunya', 'sementara', 'semisal', 'semisalnya', 'sempat', 'semua', 'semuanya', 'semula', 'sendiri', 'sendirian', 'sendirinya', 'seolah', 'seolah-olah', 'seorang', 'sepanjang', 'sepantasnya', 'sepantasnyalah', 'seperlunya', 'seperti', 'sepertinya', 'sepihak', 'sering', 'seringnya', 'serta', 'serupa', 'sesaat', 'sesama', 'sesampai', 'sesegera', 'sesekali', 'seseorang', 'sesuatu', 'sesuatunya', 'sesudah', 'sesudahnya', 'setelah', 'setempat', 'setengah', 'seterusnya', 'setiap', 'setiba', 'setibanya', 'setidak-tidaknya', 'setidaknya', 'setinggi', 'seusai', 'sewaktu', 'siap', 'siapa', 'siapakah', 'siapapun', 'sini', 'sinilah', 'soal', 'soalnya', 'suatu', 'sudah', 'sudahkah', 'sudahlah', 'supaya', 'tadi', 'tadinya', 'tahu', 'tahun', 'tak', 'tambah', 'tambahnya', 'tampak', 'tampaknya', 'tandas', 'tandasnya', 'tanpa', 'tanya', 'tanyakan', 'tanyanya', 'tapi', 'tegas', 'tegasnya', 'telah', 'tempat', 'tengah', 'tentang', 'tentu', 'tentulah', 'tentunya', 'tepat', 'terakhir', 'terasa', 'terbanyak', 'terdahulu', 'terdapat', 'terdiri', 'terhadap', 'terhadapnya', 'teringat', 'teringat-ingat', 'terjadi', 'terjadilah', 'terjadinya', 'terkira', 'terlalu', 'terlebih', 'terlihat', 'termasuk', 'ternyata', 'tersampaikan', 'tersebut', 'tersebutlah', 'tertentu', 'tertuju', 'terus', 'terutama', 'tetap', 'tetapi', 'tiap', 'tiba', 'tiba-tiba', 'tidak', 'tidakkah', 'tidaklah', 'tiga', 'tinggi', 'toh', 'tunjuk', 'turut', 'tutur', 'tuturnya', 'ucap', 'ucapnya', 'ujar', 'ujarnya', 'umum', 'umumnya', 'ungkap', 'ungkapnya', 'untuk', 'usah', 'usai', 'waduh', 'wah', 'wahai', 'waktu', 'waktunya', 'walau', 'walaupun', 'wong', 'yaitu', 'yakin', 'yakni', 'yang']\n"
     ]
    }
   ],
   "source": [
    "# stopwords in indonesia\n",
    "indonesian_stop = stopwords.words('indonesian')\n",
    "print(len(indonesian_stop), \"stopwords in Indonesia:\\n\", indonesian_stop)"
   ]
  },
  {
   "cell_type": "code",
   "execution_count": 19,
   "id": "3a21fa70-fb2d-4373-8304-a4721dc83b0b",
   "metadata": {},
   "outputs": [
    {
     "name": "stdout",
     "output_type": "stream",
     "text": [
      "[['matahari', 'adalah', 'bintang', 'pusat', 'dari', 'ta', 'surya', 'yang', 'memiliki', 'diameter', 'sekitar', '14', 'juta', 'kilometer'], ['bumi', 'adalah', 'planet', 'ketiga', 'dari', 'matahari', 'dalam', 'ta', 'surya', 'dan', 'satunya', 'planet', 'yang', 'diketahui', 'memiliki', 'kehidupan'], ['merkurius', 'adalah', 'planet', 'terkecil', 'di', 'ta', 'surya', 'dan', 'terdekat', 'dengan', 'matahari'], ['venus', 'adalah', 'planet', 'kedua', 'dari', 'matahari', 'dalam', 'ta', 'surya', 'dan', 'dikenal', 'sebagai', 'planet', 'kembar', 'bumi', 'karena', 'ukurannya', 'yang', 'hampir', 'sama'], ['mars', 'adalah', 'planet', 'keempat', 'dari', 'matahari', 'dalam', 'ta', 'surya', 'dan', 'dikenal', 'sebagai', 'planet', 'merah', 'karena', 'warnanya', 'yang', 'khas'], ['yupiter', 'adalah', 'planet', 'terbesar', 'di', 'ta', 'surya', 'dan', 'memiliki', 'banyak', 'satelit', 'termasuk', 'ganymede', 'yang', 'merupakan', 'satelit', 'terbesar', 'di', 'ta', 'surya'], ['saturnus', 'adalah', 'planet', 'kedua', 'terbesar', 'di', 'ta', 'surya', 'dan', 'dikenal', 'karena', 'cinnya', 'yang', 'mencolok'], ['uranus', 'adalah', 'planet', 'yang', 'miringnya', 'sangat', 'ekstrem', 'dalam', 'ta', 'surya', 'dan', 'merupakan', 'satunya', 'planet', 'yang', 'diberi', 'nama', 'dari', 'mitologi', 'yunani'], ['neptunus', 'adalah', 'planet', 'terjauh', 'dari', 'matahari', 'dalam', 'ta', 'surya', 'dan', 'dikenal', 'karena', 'angin', 'yang', 'sangat', 'kencang', 'di', 'atmosfernya'], ['pluto', 'dulunya', 'dianggap', 'sebagai', 'planet', 'kesembilan', 'dalam', 'ta', 'surya', 'namun', 'sekarang', 'diklasifikasikan', 'sebagai', 'planet', 'kerdil', 'oleh', 'iau']]\n"
     ]
    }
   ],
   "source": [
    "print(split_words, sep=', ')"
   ]
  },
  {
   "cell_type": "code",
   "execution_count": 20,
   "id": "322304b9-269c-4944-887c-b6797a63d4f2",
   "metadata": {},
   "outputs": [
    {
     "name": "stdout",
     "output_type": "stream",
     "text": [
      "[['matahari', 'bintang', 'pusat', 'ta', 'surya', 'memiliki', 'diameter', '14', 'juta', 'kilometer'], ['bumi', 'planet', 'ketiga', 'matahari', 'ta', 'surya', 'satunya', 'planet', 'memiliki', 'kehidupan'], ['merkurius', 'planet', 'terkecil', 'ta', 'surya', 'terdekat', 'matahari'], ['venus', 'planet', 'matahari', 'ta', 'surya', 'dikenal', 'planet', 'kembar', 'bumi', 'ukurannya'], ['mars', 'planet', 'keempat', 'matahari', 'ta', 'surya', 'dikenal', 'planet', 'merah', 'warnanya', 'khas'], ['yupiter', 'planet', 'terbesar', 'ta', 'surya', 'memiliki', 'satelit', 'ganymede', 'satelit', 'terbesar', 'ta', 'surya'], ['saturnus', 'planet', 'terbesar', 'ta', 'surya', 'dikenal', 'cinnya', 'mencolok'], ['uranus', 'planet', 'miringnya', 'ekstrem', 'ta', 'surya', 'satunya', 'planet', 'nama', 'mitologi', 'yunani'], ['neptunus', 'planet', 'terjauh', 'matahari', 'ta', 'surya', 'dikenal', 'angin', 'kencang', 'atmosfernya'], ['pluto', 'dulunya', 'dianggap', 'planet', 'kesembilan', 'ta', 'surya', 'diklasifikasikan', 'planet', 'kerdil', 'iau']]\n"
     ]
    }
   ],
   "source": [
    "split_stop = []\n",
    "for index, words in enumerate(split_words):\n",
    "    wordsFiltered = [w for w in words if w not in indonesian_stop]\n",
    "    split_stop.append(wordsFiltered)\n",
    "print(split_stop)"
   ]
  },
  {
   "cell_type": "code",
   "execution_count": 21,
   "id": "a3fdd8e9-3874-4a1c-b4c1-1094b2fa98ea",
   "metadata": {},
   "outputs": [],
   "source": [
    "factory = StemmerFactory()\n",
    "stemmer = factory.create_stemmer()"
   ]
  },
  {
   "cell_type": "code",
   "execution_count": 22,
   "id": "4343ffea-7ea4-488f-bc7d-121e9725056c",
   "metadata": {},
   "outputs": [
    {
     "data": {
      "text/html": [
       "<div>\n",
       "<style scoped>\n",
       "    .dataframe tbody tr th:only-of-type {\n",
       "        vertical-align: middle;\n",
       "    }\n",
       "\n",
       "    .dataframe tbody tr th {\n",
       "        vertical-align: top;\n",
       "    }\n",
       "\n",
       "    .dataframe thead th {\n",
       "        text-align: right;\n",
       "    }\n",
       "</style>\n",
       "<table border=\"1\" class=\"dataframe\">\n",
       "  <thead>\n",
       "    <tr style=\"text-align: right;\">\n",
       "      <th></th>\n",
       "      <th>nomor</th>\n",
       "      <th>parameter</th>\n",
       "      <th>kata</th>\n",
       "    </tr>\n",
       "  </thead>\n",
       "  <tbody>\n",
       "    <tr>\n",
       "      <th>0</th>\n",
       "      <td>0</td>\n",
       "      <td>0</td>\n",
       "      <td>matahari</td>\n",
       "    </tr>\n",
       "    <tr>\n",
       "      <th>1</th>\n",
       "      <td>0</td>\n",
       "      <td>1</td>\n",
       "      <td>bintang</td>\n",
       "    </tr>\n",
       "    <tr>\n",
       "      <th>2</th>\n",
       "      <td>0</td>\n",
       "      <td>2</td>\n",
       "      <td>pusat</td>\n",
       "    </tr>\n",
       "    <tr>\n",
       "      <th>3</th>\n",
       "      <td>0</td>\n",
       "      <td>3</td>\n",
       "      <td>ta</td>\n",
       "    </tr>\n",
       "    <tr>\n",
       "      <th>4</th>\n",
       "      <td>0</td>\n",
       "      <td>4</td>\n",
       "      <td>surya</td>\n",
       "    </tr>\n",
       "    <tr>\n",
       "      <th>5</th>\n",
       "      <td>0</td>\n",
       "      <td>5</td>\n",
       "      <td>milik</td>\n",
       "    </tr>\n",
       "    <tr>\n",
       "      <th>6</th>\n",
       "      <td>0</td>\n",
       "      <td>6</td>\n",
       "      <td>diameter</td>\n",
       "    </tr>\n",
       "    <tr>\n",
       "      <th>7</th>\n",
       "      <td>0</td>\n",
       "      <td>7</td>\n",
       "      <td>14</td>\n",
       "    </tr>\n",
       "    <tr>\n",
       "      <th>8</th>\n",
       "      <td>0</td>\n",
       "      <td>8</td>\n",
       "      <td>juta</td>\n",
       "    </tr>\n",
       "    <tr>\n",
       "      <th>9</th>\n",
       "      <td>0</td>\n",
       "      <td>9</td>\n",
       "      <td>kilometer</td>\n",
       "    </tr>\n",
       "  </tbody>\n",
       "</table>\n",
       "</div>"
      ],
      "text/plain": [
       "   nomor  parameter       kata\n",
       "0      0          0   matahari\n",
       "1      0          1    bintang\n",
       "2      0          2      pusat\n",
       "3      0          3         ta\n",
       "4      0          4      surya\n",
       "5      0          5      milik\n",
       "6      0          6   diameter\n",
       "7      0          7         14\n",
       "8      0          8       juta\n",
       "9      0          9  kilometer"
      ]
     },
     "execution_count": 22,
     "metadata": {},
     "output_type": "execute_result"
    }
   ],
   "source": [
    "dic_stem = {\"nomor\":[], \"parameter\":[], \"kata\":[]}\n",
    "list_index = []\n",
    "list_param = []\n",
    "list_stem = []\n",
    "for index, stop in enumerate(split_stop):\n",
    "    for parameter, kata in enumerate(stop):\n",
    "        stemword = stemmer.stem(kata)\n",
    "        dic_stem[\"nomor\"].append(index)\n",
    "        dic_stem[\"parameter\"].append(parameter)\n",
    "        dic_stem[\"kata\"].append(stemword)\n",
    "# dic_stem\n",
    "word_stemmed = pd.DataFrame(dic_stem)\n",
    "word_stemmed.head(10)"
   ]
  },
  {
   "cell_type": "code",
   "execution_count": 23,
   "id": "ea6ebcbe-fc3f-48a5-8785-9f195168a09b",
   "metadata": {},
   "outputs": [
    {
     "name": "stdout",
     "output_type": "stream",
     "text": [
      "['matahari bintang pusat ta surya milik diameter 14 juta kilometer', 'bumi planet tiga matahari ta surya satu planet milik hidup', 'merkurius planet kecil ta surya dekat matahari', 'venus planet matahari ta surya kenal planet kembar bumi ukur', 'mars planet empat matahari ta surya kenal planet merah warna khas', 'yupiter planet besar ta surya milik satelit ganymede satelit besar ta surya', 'saturnus planet besar ta surya kenal cinnya colok', 'uranus planet miring ekstrem ta surya satu planet nama mitologi yunani', 'neptunus planet jauh matahari ta surya kenal angin kencang atmosfer', 'pluto dulunya anggap planet sembilan ta surya klasifikasi planet kerdil iau']\n"
     ]
    }
   ],
   "source": [
    "stembeneran = []\n",
    "for index in range(len(word_stemmed.nomor.unique())):\n",
    "    var = ' '.join(word_stemmed[word_stemmed.nomor == index].kata)\n",
    "    stembeneran.append(var)\n",
    "print(stembeneran)"
   ]
  },
  {
   "cell_type": "code",
   "execution_count": 24,
   "id": "37ad453c-0a8e-4fd8-837b-1790711ef76f",
   "metadata": {},
   "outputs": [],
   "source": [
    "clean_dataset = pd.DataFrame(stembeneran)\n",
    "clean_dataset = clean_dataset.rename(columns={0: 'teks'})"
   ]
  },
  {
   "cell_type": "code",
   "execution_count": 25,
   "id": "49570a04-8402-4c22-bfa3-e30b256ad812",
   "metadata": {},
   "outputs": [
    {
     "data": {
      "text/html": [
       "<div>\n",
       "<style scoped>\n",
       "    .dataframe tbody tr th:only-of-type {\n",
       "        vertical-align: middle;\n",
       "    }\n",
       "\n",
       "    .dataframe tbody tr th {\n",
       "        vertical-align: top;\n",
       "    }\n",
       "\n",
       "    .dataframe thead th {\n",
       "        text-align: right;\n",
       "    }\n",
       "</style>\n",
       "<table border=\"1\" class=\"dataframe\">\n",
       "  <thead>\n",
       "    <tr style=\"text-align: right;\">\n",
       "      <th></th>\n",
       "      <th>teks</th>\n",
       "    </tr>\n",
       "  </thead>\n",
       "  <tbody>\n",
       "    <tr>\n",
       "      <th>0</th>\n",
       "      <td>matahari bintang pusat ta surya milik diameter 14 juta kilometer</td>\n",
       "    </tr>\n",
       "    <tr>\n",
       "      <th>1</th>\n",
       "      <td>bumi planet tiga matahari ta surya satu planet milik hidup</td>\n",
       "    </tr>\n",
       "    <tr>\n",
       "      <th>2</th>\n",
       "      <td>merkurius planet kecil ta surya dekat matahari</td>\n",
       "    </tr>\n",
       "    <tr>\n",
       "      <th>3</th>\n",
       "      <td>venus planet matahari ta surya kenal planet kembar bumi ukur</td>\n",
       "    </tr>\n",
       "    <tr>\n",
       "      <th>4</th>\n",
       "      <td>mars planet empat matahari ta surya kenal planet merah warna khas</td>\n",
       "    </tr>\n",
       "    <tr>\n",
       "      <th>5</th>\n",
       "      <td>yupiter planet besar ta surya milik satelit ganymede satelit besar ta surya</td>\n",
       "    </tr>\n",
       "    <tr>\n",
       "      <th>6</th>\n",
       "      <td>saturnus planet besar ta surya kenal cinnya colok</td>\n",
       "    </tr>\n",
       "    <tr>\n",
       "      <th>7</th>\n",
       "      <td>uranus planet miring ekstrem ta surya satu planet nama mitologi yunani</td>\n",
       "    </tr>\n",
       "    <tr>\n",
       "      <th>8</th>\n",
       "      <td>neptunus planet jauh matahari ta surya kenal angin kencang atmosfer</td>\n",
       "    </tr>\n",
       "    <tr>\n",
       "      <th>9</th>\n",
       "      <td>pluto dulunya anggap planet sembilan ta surya klasifikasi planet kerdil iau</td>\n",
       "    </tr>\n",
       "  </tbody>\n",
       "</table>\n",
       "</div>"
      ],
      "text/plain": [
       "                                                                          teks\n",
       "0             matahari bintang pusat ta surya milik diameter 14 juta kilometer\n",
       "1                   bumi planet tiga matahari ta surya satu planet milik hidup\n",
       "2                               merkurius planet kecil ta surya dekat matahari\n",
       "3                 venus planet matahari ta surya kenal planet kembar bumi ukur\n",
       "4            mars planet empat matahari ta surya kenal planet merah warna khas\n",
       "5  yupiter planet besar ta surya milik satelit ganymede satelit besar ta surya\n",
       "6                            saturnus planet besar ta surya kenal cinnya colok\n",
       "7       uranus planet miring ekstrem ta surya satu planet nama mitologi yunani\n",
       "8          neptunus planet jauh matahari ta surya kenal angin kencang atmosfer\n",
       "9  pluto dulunya anggap planet sembilan ta surya klasifikasi planet kerdil iau"
      ]
     },
     "execution_count": 25,
     "metadata": {},
     "output_type": "execute_result"
    }
   ],
   "source": [
    "clean_dataset"
   ]
  },
  {
   "cell_type": "code",
   "execution_count": 26,
   "id": "7d16cb9f-fdf8-4bb2-9397-53c69b0acb42",
   "metadata": {},
   "outputs": [],
   "source": [
    "# Menghapus baris yang mengandung NaN dari DataFrame 'dataset'\n",
    "dataset.dropna(inplace=True)"
   ]
  },
  {
   "cell_type": "code",
   "execution_count": 27,
   "id": "518763ae-632d-445f-9485-6ef10fd9835d",
   "metadata": {},
   "outputs": [],
   "source": [
    "# Mengganti nilai NaN dengan string kosong (\"\") dalam DataFrame 'dataset'\n",
    "dataset.fillna(\"\", inplace=True)"
   ]
  },
  {
   "cell_type": "code",
   "execution_count": 28,
   "id": "5161781e-0b28-484c-8f8a-0eaca153644a",
   "metadata": {},
   "outputs": [
    {
     "data": {
      "text/html": [
       "<div>\n",
       "<style scoped>\n",
       "    .dataframe tbody tr th:only-of-type {\n",
       "        vertical-align: middle;\n",
       "    }\n",
       "\n",
       "    .dataframe tbody tr th {\n",
       "        vertical-align: top;\n",
       "    }\n",
       "\n",
       "    .dataframe thead th {\n",
       "        text-align: right;\n",
       "    }\n",
       "</style>\n",
       "<table border=\"1\" class=\"dataframe\">\n",
       "  <thead>\n",
       "    <tr style=\"text-align: right;\">\n",
       "      <th></th>\n",
       "      <th>teks</th>\n",
       "    </tr>\n",
       "  </thead>\n",
       "  <tbody>\n",
       "    <tr>\n",
       "      <th>0</th>\n",
       "      <td>matahari bintang pusat ta surya milik diameter 14 juta kilometer</td>\n",
       "    </tr>\n",
       "    <tr>\n",
       "      <th>1</th>\n",
       "      <td>bumi planet tiga matahari ta surya satu planet milik hidup</td>\n",
       "    </tr>\n",
       "    <tr>\n",
       "      <th>2</th>\n",
       "      <td>merkurius planet kecil ta surya dekat matahari</td>\n",
       "    </tr>\n",
       "    <tr>\n",
       "      <th>3</th>\n",
       "      <td>venus planet matahari ta surya kenal planet kembar bumi ukur</td>\n",
       "    </tr>\n",
       "    <tr>\n",
       "      <th>4</th>\n",
       "      <td>mars planet empat matahari ta surya kenal planet merah warna khas</td>\n",
       "    </tr>\n",
       "    <tr>\n",
       "      <th>5</th>\n",
       "      <td>yupiter planet besar ta surya milik satelit ganymede satelit besar ta surya</td>\n",
       "    </tr>\n",
       "    <tr>\n",
       "      <th>6</th>\n",
       "      <td>saturnus planet besar ta surya kenal cinnya colok</td>\n",
       "    </tr>\n",
       "    <tr>\n",
       "      <th>7</th>\n",
       "      <td>uranus planet miring ekstrem ta surya satu planet nama mitologi yunani</td>\n",
       "    </tr>\n",
       "    <tr>\n",
       "      <th>8</th>\n",
       "      <td>neptunus planet jauh matahari ta surya kenal angin kencang atmosfer</td>\n",
       "    </tr>\n",
       "    <tr>\n",
       "      <th>9</th>\n",
       "      <td>pluto dulunya anggap planet sembilan ta surya klasifikasi planet kerdil iau</td>\n",
       "    </tr>\n",
       "  </tbody>\n",
       "</table>\n",
       "</div>"
      ],
      "text/plain": [
       "                                                                          teks\n",
       "0             matahari bintang pusat ta surya milik diameter 14 juta kilometer\n",
       "1                   bumi planet tiga matahari ta surya satu planet milik hidup\n",
       "2                               merkurius planet kecil ta surya dekat matahari\n",
       "3                 venus planet matahari ta surya kenal planet kembar bumi ukur\n",
       "4            mars planet empat matahari ta surya kenal planet merah warna khas\n",
       "5  yupiter planet besar ta surya milik satelit ganymede satelit besar ta surya\n",
       "6                            saturnus planet besar ta surya kenal cinnya colok\n",
       "7       uranus planet miring ekstrem ta surya satu planet nama mitologi yunani\n",
       "8          neptunus planet jauh matahari ta surya kenal angin kencang atmosfer\n",
       "9  pluto dulunya anggap planet sembilan ta surya klasifikasi planet kerdil iau"
      ]
     },
     "execution_count": 28,
     "metadata": {},
     "output_type": "execute_result"
    }
   ],
   "source": [
    "    clean_dataset"
   ]
  },
  {
   "cell_type": "code",
   "execution_count": 30,
   "id": "c07cbf2b-f1d1-4956-9de9-bf499737ed10",
   "metadata": {},
   "outputs": [],
   "source": [
    "clean_dataset.to_csv('clean-corpus-indonesia.csv')"
   ]
  },
  {
   "cell_type": "code",
   "execution_count": null,
   "id": "37eddfa5-cd96-4321-8670-26b9b605a0e3",
   "metadata": {},
   "outputs": [],
   "source": []
  }
 ],
 "metadata": {
  "kernelspec": {
   "display_name": "Python 3 (ipykernel)",
   "language": "python",
   "name": "python3"
  },
  "language_info": {
   "codemirror_mode": {
    "name": "ipython",
    "version": 3
   },
   "file_extension": ".py",
   "mimetype": "text/x-python",
   "name": "python",
   "nbconvert_exporter": "python",
   "pygments_lexer": "ipython3",
   "version": "3.12.2"
  }
 },
 "nbformat": 4,
 "nbformat_minor": 5
}
